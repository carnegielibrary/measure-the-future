{
 "cells": [
  {
   "cell_type": "code",
   "execution_count": null,
   "metadata": {
    "collapsed": true
   },
   "outputs": [],
   "source": [
    "#gets changed when notebook is autorun from main.ipynb\n",
    "SCOUT_FOLDER_PATH = r\"C:\\Users\\kowaleskim\\Workspace\\measure_the_future\\mtf_data\\Main 3 - MFA\""
   ]
  },
  {
   "cell_type": "code",
   "execution_count": null,
   "metadata": {
    "collapsed": false,
    "deletable": true,
    "editable": true
   },
   "outputs": [],
   "source": [
    "import matplotlib.pyplot as plt\n",
    "import numpy as np\n",
    "\n",
    "import matplotlib.dates as mpdates\n",
    "from datetime import datetime, timedelta, date, time, MINYEAR\n",
    "import pytz #time zone info\n",
    "import calendar #for day abbreviations\n",
    "\n",
    "from collections import Counter\n",
    "\n",
    "import load_mtf_data\n",
    "import os\n",
    "\n",
    "from constants import DATE_RANGE\n",
    "WEEKDAYS_TO_DISPLAY = [3] #Monday is 0, Sunday is 6\n",
    "TIME_Y_AXIS_MAX = 500"
   ]
  },
  {
   "cell_type": "code",
   "execution_count": null,
   "metadata": {
    "collapsed": true,
    "deletable": true,
    "editable": true
   },
   "outputs": [],
   "source": [
    "#set matplotlib to display plots in notbook output rather than new window\n",
    "%matplotlib inline"
   ]
  },
  {
   "cell_type": "code",
   "execution_count": null,
   "metadata": {
    "collapsed": false,
    "deletable": true,
    "editable": true
   },
   "outputs": [],
   "source": [
    "#(interactions, im) = load_mtf_data.combined_from_all_sets(SCOUT_FOLDER_PATH)\n",
    "(interactions, im) = load_mtf_data.from_date_range(SCOUT_FOLDER_PATH, DATE_RANGE, WEEKDAYS_TO_DISPLAY)\n",
    "#(interactions, im) = load_mtf_data.from_set(SCOUT_FOLDER_PATH, 'main3_12072017')\n",
    "#interactions"
   ]
  },
  {
   "cell_type": "markdown",
   "metadata": {
    "deletable": true,
    "editable": true
   },
   "source": [
    "Let's look at the enter times from the MtF data.  These are recorded in 15-minute bins, and we are interested in the number of interactions in each bin.\n",
    "\n",
    "Make a Counter, a python object that can be constructed with a list and treated as a dictionary where the keys are distinct elements in the list and the values are the number of times that element is repeated.\n",
    "\n",
    "In this case, the keys will be datetime objects representing the start time of a 15-minute bin, and the values will be the number of interactions in that bin."
   ]
  },
  {
   "cell_type": "code",
   "execution_count": null,
   "metadata": {
    "collapsed": false,
    "deletable": true,
    "editable": true
   },
   "outputs": [],
   "source": [
    "interaction_time_counter = Counter(i['EnteredAt'] for i in interactions)\n",
    "#interaction_time_counter"
   ]
  },
  {
   "cell_type": "markdown",
   "metadata": {
    "deletable": true,
    "editable": true
   },
   "source": [
    "We are only interested in the times of day people tend to be in view of this scout, and thus our chart will combine data from several dates.  Set the date range and days of the week you want to include in the graph; for example, you might want to look at weekends in December or weekdays in 2018."
   ]
  },
  {
   "cell_type": "code",
   "execution_count": null,
   "metadata": {
    "collapsed": false,
    "deletable": true,
    "editable": true
   },
   "outputs": [],
   "source": [
    "#compute the min and max dates that are both in the range specified above, and actually contain MTF data.\n",
    "min_date_represented = min(interaction_time_counter).date()\n",
    "max_date_represented = max(interaction_time_counter).date()\n",
    "min_date_represented, max_date_represented"
   ]
  },
  {
   "cell_type": "code",
   "execution_count": null,
   "metadata": {
    "collapsed": true,
    "deletable": true,
    "editable": true
   },
   "outputs": [],
   "source": [
    "if WEEKDAYS_TO_DISPLAY == list(range(7)): s = \"All\"\n",
    "else: s = \", \".join(list(map(lambda i: calendar.day_abbr[i], WEEKDAYS_TO_DISPLAY)))\n",
    "    \n",
    "#assemble plot title\n",
    "title = '\\n'.join([\n",
    "    \"Number of Interactions by Time of Day\",\n",
    "    \"scout: \" + os.path.basename(SCOUT_FOLDER_PATH),\n",
    "    \"dates between \" + min_date_represented.strftime(\"%x\") + \" and \" + max_date_represented.strftime(\"%x\"),\n",
    "    \"weekdays included: \" + s\n",
    "])"
   ]
  },
  {
   "cell_type": "markdown",
   "metadata": {
    "deletable": true,
    "editable": true
   },
   "source": [
    "Create a second Counter, called display_time_counter.   This counter is only interested in the time of day of each bin, not the date, so it will add together the counts for several bins on different dates but the same time.\n",
    "\n",
    "It would be most sensible for the keys of display_time_counter to be time rather than datetime objects.  However, matplotlib is good at plotting datetime objects and very bad at plotting time objects.  So instead of converting from datetime to time, we will manually replace the date in each datetime object with an arbitary day (1/1/2000) while leaving the time the same.  Essentially we want to act as if all interactions are happening on the same day."
   ]
  },
  {
   "cell_type": "code",
   "execution_count": null,
   "metadata": {
    "collapsed": false,
    "deletable": true,
    "editable": true
   },
   "outputs": [],
   "source": [
    "display_time_counter = Counter()\n",
    "for dt in interaction_time_counter:\n",
    "        \n",
    "    #Datetimes should be in eastern right now. setting tzinfo=None in the replace call\n",
    "    #kind of handwaves out timezone issues while keeping all the actual times as they were before.\n",
    "    #matplotlib is weird about time zones so doing this ensures that it will display the actual time\n",
    "    #of each interaction, as someone in EST would describe it.  It deals with daylight savings time correctly\n",
    "    #and whatnot.\n",
    "    display_dt = dt.replace(year=2000,month=1,day=1, tzinfo=None)\n",
    "        \n",
    "    count = interaction_time_counter[dt]\n",
    "    display_time_counter.update({display_dt:count}) \n",
    "    #if display_dt is already a key, it adds count to the existing count rather than replacing\n",
    "                \n",
    "display_time_counter"
   ]
  },
  {
   "cell_type": "code",
   "execution_count": null,
   "metadata": {
    "collapsed": false,
    "deletable": true,
    "editable": true
   },
   "outputs": [],
   "source": [
    "#get the time bins and counts into two paralell lists which is how matplotlib likes them.\n",
    "times, counts = zip(*display_time_counter.items())"
   ]
  },
  {
   "cell_type": "code",
   "execution_count": null,
   "metadata": {
    "collapsed": false,
    "deletable": true,
    "editable": true
   },
   "outputs": [],
   "source": [
    "#determine range of time represented in this plot for better tick labelling\n",
    "second_range = (max(times)- min(times)).total_seconds()\n",
    "hour_range = second_range / 3600.0\n",
    "hour_range"
   ]
  },
  {
   "cell_type": "code",
   "execution_count": null,
   "metadata": {
    "collapsed": false,
    "deletable": true,
    "editable": true
   },
   "outputs": [],
   "source": [
    "#get axes object on which to plot\n",
    "ax = plt.axes()\n",
    "\n",
    "plt.ylim(0, TIME_Y_AXIS_MAX)\n",
    "\n",
    "ax.bar(\n",
    "    times, counts, \n",
    "    width=.011, \n",
    "    \n",
    "    #since bins are represented from their start time, bars should be places with the times as thier left edge\n",
    "    #rather than centered on the times as default.\n",
    "    align='edge'   \n",
    ")\n",
    "\n",
    "#ax.xaxis_date()\n",
    "\n",
    "#put a tick mark at each hour\n",
    "ax.xaxis.set_minor_locator(mpdates.HourLocator())\n",
    "\n",
    "#if there are more than 4 hours shown, put a label every 4 hours.  Otherwise every two hours.\n",
    "if hour_range < 16: \n",
    "    ax.xaxis.set_major_locator(mpdates.HourLocator(interval=2))\n",
    "else:\n",
    "    ax.xaxis.set_major_locator(mpdates.HourLocator(interval=4))\n",
    "    \n",
    "#set display format for dates\n",
    "ax.xaxis.set_major_formatter(mpdates.DateFormatter('%I\\n%p'))\n",
    "\n",
    "ax.set_title(title)\n",
    "\n",
    "#add gridlines to better see where bars are located in time\n",
    "#'both' means that both major and minor tickes get gridlines\n",
    "#we only want them for the x axis\n",
    "ax.grid(which='both', axis='x')\n",
    "\n",
    "plt.savefig(SCOUT_FOLDER_PATH + os.sep + \"time_\" + os.path.basename(SCOUT_FOLDER_PATH) + \"_\" + str(DATE_RANGE[0]) + \"_\" + str(DATE_RANGE[1]) + \".jpg\",\n",
    "           bbox_inches='tight', dpi=300)"
   ]
  }
 ],
 "metadata": {
  "kernelspec": {
   "display_name": "Python 3",
   "language": "python",
   "name": "python3"
  },
  "language_info": {
   "codemirror_mode": {
    "name": "ipython",
    "version": 3
   },
   "file_extension": ".py",
   "mimetype": "text/x-python",
   "name": "python",
   "nbconvert_exporter": "python",
   "pygments_lexer": "ipython3",
   "version": "3.6.2"
  }
 },
 "nbformat": 4,
 "nbformat_minor": 2
}
