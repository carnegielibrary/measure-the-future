{
 "cells": [
  {
   "cell_type": "code",
   "execution_count": null,
   "metadata": {
    "collapsed": true,
    "deletable": true,
    "editable": true
   },
   "outputs": [],
   "source": [
    "#constants that get changed when notebook is autorun\n",
    "SCOUT_FOLDER_PATH = None"
   ]
  },
  {
   "cell_type": "code",
   "execution_count": null,
   "metadata": {
    "collapsed": false,
    "deletable": true,
    "editable": true
   },
   "outputs": [],
   "source": [
    "import matplotlib.pyplot as plt\n",
    "import matplotlib.colors as mpcolors\n",
    "import numpy as np\n",
    "\n",
    "import load_mtf_data\n",
    "import os"
   ]
  },
  {
   "cell_type": "code",
   "execution_count": null,
   "metadata": {
    "collapsed": true,
    "deletable": true,
    "editable": true
   },
   "outputs": [],
   "source": [
    "#set matplotlib to display plots in notbook output rather than new window\n",
    "%matplotlib inline"
   ]
  },
  {
   "cell_type": "code",
   "execution_count": null,
   "metadata": {
    "collapsed": true,
    "deletable": true,
    "editable": true
   },
   "outputs": [],
   "source": [
    "#use load_mtf_data python script to get data from the most recent date range subfolder\n",
    "(interactions, im, subfolder_name) = load_mtf_data.from_most_recent_subfolder(SCOUT_FOLDER_PATH)"
   ]
  },
  {
   "cell_type": "code",
   "execution_count": null,
   "metadata": {
    "collapsed": false,
    "deletable": true,
    "editable": true
   },
   "outputs": [],
   "source": [
    "print(im.format, im.size, im.mode)\n",
    "plt.imshow(im, cmap=\"gray\")"
   ]
  },
  {
   "cell_type": "code",
   "execution_count": null,
   "metadata": {
    "collapsed": false,
    "deletable": true,
    "editable": true
   },
   "outputs": [],
   "source": [
    "interactions[0]"
   ]
  },
  {
   "cell_type": "markdown",
   "metadata": {
    "deletable": true,
    "editable": true
   },
   "source": [
    "We will be plotting interactions by the x,y coordinates of their waypoints.  Matplotlib likes to have coordinates in separate lists for x and y, instead of a single list of x, y tuples.  Thus we will add a new key to each interaction, called \"Waypoints-MPL-Format\" which stores waypoint coordinates in such a manner."
   ]
  },
  {
   "cell_type": "code",
   "execution_count": null,
   "metadata": {
    "collapsed": false,
    "deletable": true,
    "editable": true
   },
   "outputs": [],
   "source": [
    "for i in interactions: \n",
    "    i['Waypoints-MPL-Format'] = list(zip(*i['Waypoints']))\n",
    "    \n",
    "#zip(*[(1, 4), (2, 5), (3, 6)]) -> ([1, 2, 3], [4, 5, 6])"
   ]
  },
  {
   "cell_type": "code",
   "execution_count": null,
   "metadata": {
    "collapsed": false,
    "deletable": true,
    "editable": true
   },
   "outputs": [],
   "source": [
    "interactions[0]"
   ]
  },
  {
   "cell_type": "markdown",
   "metadata": {
    "deletable": true,
    "editable": true
   },
   "source": [
    "Next, choose an arbitrary subset of interactions to display.  This is just to get a sense of where the paths are--we don't need to display *everything* as that would get too muddled."
   ]
  },
  {
   "cell_type": "code",
   "execution_count": null,
   "metadata": {
    "collapsed": true,
    "deletable": true,
    "editable": true
   },
   "outputs": [],
   "source": [
    "num_interactions_to_show = 150\n",
    "interactions_to_show = interactions[:num_interactions_to_show]"
   ]
  },
  {
   "cell_type": "markdown",
   "metadata": {
    "deletable": true,
    "editable": true
   },
   "source": [
    "We want to color the path of each interaction based on the total duration of the interaction.  We will set a color gradient, cmap, and use norm to assign each color on the gradient to a duration such that the highest color matches with the longest duration of all the paths we are displaying."
   ]
  },
  {
   "cell_type": "code",
   "execution_count": null,
   "metadata": {
    "collapsed": true,
    "deletable": true,
    "editable": true
   },
   "outputs": [],
   "source": [
    "cmap = plt.cm.rainbow\n",
    "norm = mpcolors.Normalize(vmin=0, vmax=max(i['Duration'] for i in interactions_to_show))"
   ]
  },
  {
   "cell_type": "code",
   "execution_count": null,
   "metadata": {
    "collapsed": true,
    "deletable": true,
    "editable": true
   },
   "outputs": [],
   "source": [
    "title = \"\\n\".join([\n",
    "    str(num_interactions_to_show) + \" Randomly Selected Paths\",\n",
    "    \"(colored based on interaction time in seconds)\",\n",
    "    \"scout: \" + os.path.basename(SCOUT_FOLDER_PATH),\n",
    "    \"dates range subfolder: \" + subfolder_name\n",
    "])"
   ]
  },
  {
   "cell_type": "code",
   "execution_count": null,
   "metadata": {
    "collapsed": false,
    "deletable": true,
    "editable": true
   },
   "outputs": [],
   "source": [
    "#get axes object on which to plot\n",
    "ax = plt.axes()\n",
    "\n",
    "#display the calibration image as background\n",
    "ax.imshow(im, cmap=\"gray\")\n",
    "\n",
    "for i in interactions_to_show:\n",
    "        \n",
    "    ax.plot(i['Waypoints-MPL-Format'][0],    #x coords\n",
    "            i['Waypoints-MPL-Format'][1],    #y coords\n",
    "            alpha=.3,                        #make line somewhat transparent so as not to obscure the background image\n",
    "            color=cmap(norm(i['Duration']))) #color line based on its duration, using the color map and norm we defined.\n",
    "\n",
    "ax.xaxis.set_visible(False)\n",
    "ax.yaxis.set_visible(False)\n",
    "\n",
    "#make a colorbar of the color scale used:\n",
    "sm = plt.cm.ScalarMappable(cmap=cmap, norm=norm)\n",
    "sm.set_array([])\n",
    "plt.colorbar(sm, \n",
    "             ax=ax, #put it on the axes object ax\n",
    "             orientation=\"horizontal\", \n",
    "             pad=0, \n",
    "             shrink=.98\n",
    ")\n",
    "\n",
    "ax.set_title(title)\n",
    "\n",
    "plt.savefig(SCOUT_FOLDER_PATH + os.sep + \"paths_\" + subfolder_name + \".jpg\",\n",
    "           bbox_inches='tight', dpi=300)"
   ]
  }
 ],
 "metadata": {
  "kernelspec": {
   "display_name": "Python 3",
   "language": "python",
   "name": "python3"
  },
  "language_info": {
   "codemirror_mode": {
    "name": "ipython",
    "version": 3
   },
   "file_extension": ".py",
   "mimetype": "text/x-python",
   "name": "python",
   "nbconvert_exporter": "python",
   "pygments_lexer": "ipython3",
   "version": "3.6.2"
  }
 },
 "nbformat": 4,
 "nbformat_minor": 2
}
