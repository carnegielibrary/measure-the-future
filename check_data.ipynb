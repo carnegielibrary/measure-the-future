{
 "cells": [
  {
   "cell_type": "code",
   "execution_count": null,
   "metadata": {
    "collapsed": false,
    "deletable": true,
    "editable": true
   },
   "outputs": [],
   "source": [
    "import os\n",
    "import load_mtf_data\n",
    "from constants import MTF_PATH"
   ]
  },
  {
   "cell_type": "code",
   "execution_count": null,
   "metadata": {
    "collapsed": false,
    "deletable": true,
    "editable": true
   },
   "outputs": [],
   "source": [
    "for name in os.listdir(MTF_PATH):\n",
    "    print(\"current folder: \" + name)\n",
    "    print(\" \")\n",
    "    scout_folder_path = MTF_PATH + os.sep + name\n",
    "    for subname in os.listdir(scout_folder_path):\n",
    "        if not os.path.isdir(scout_folder_path + os.sep + subname): continue\n",
    "        print(subname)\n",
    "        (interactions, img) = load_mtf_data.from_set(scout_folder_path, subname)\n",
    "        if interactions == None: print(\"no scout_interactions.\")\n",
    "        else: \n",
    "            entertimes = [i['EnteredAt'] for i in interactions]\n",
    "            print(\"earliest enter time: \" + min(entertimes).strftime(\"%x\"))\n",
    "            print(\"latest enter time: \" + max(entertimes).strftime(\"%x\"))\n",
    "        print(\" \")"
   ]
  }
 ],
 "metadata": {
  "kernelspec": {
   "display_name": "Python 3",
   "language": "python",
   "name": "python3"
  },
  "language_info": {
   "codemirror_mode": {
    "name": "ipython",
    "version": 3
   },
   "file_extension": ".py",
   "mimetype": "text/x-python",
   "name": "python",
   "nbconvert_exporter": "python",
   "pygments_lexer": "ipython3",
   "version": "3.6.2"
  }
 },
 "nbformat": 4,
 "nbformat_minor": 2
}
