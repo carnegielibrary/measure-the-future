{
 "cells": [
  {
   "cell_type": "code",
   "execution_count": 1,
   "metadata": {},
   "outputs": [],
   "source": [
    "import os\n",
    "import load_mtf_data\n",
    "from constants import MTF_PATH"
   ]
  },
  {
   "cell_type": "code",
   "execution_count": 2,
   "metadata": {
    "scrolled": true
   },
   "outputs": [
    {
     "name": "stdout",
     "output_type": "stream",
     "text": [
      "current folder: 3rd Floor\n",
      " \n",
      "20180928_mtf_3f\n",
      "earliest enter time: 09/21/18\n",
      "latest enter time: 09/28/18\n",
      " \n",
      "20181119_mtf_3f\n",
      "earliest enter time: 11/12/18\n",
      "latest enter time: 11/19/18\n",
      " \n",
      "unused-data\n",
      "Problem loading interaction data in /home/generalbody/Desktop/merritt/mtf/measure-the-future/mtf_data/3rd Floor/unused-data: \n",
      "Problem loading calibration image in /home/generalbody/Desktop/merritt/mtf/measure-the-future/mtf_data/3rd Floor/unused-data: 'NoneType' object has no attribute 'read'\n",
      "no scout_interactions.\n",
      " \n",
      "20181231_mtf_3f\n",
      "earliest enter time: 12/03/18\n",
      "latest enter time: 12/31/18\n",
      " \n",
      "20181203_mtf_3f\n",
      "earliest enter time: 11/19/18\n",
      "latest enter time: 12/03/18\n",
      " \n",
      "20190211_mtf_3f\n",
      "earliest enter time: 12/31/18\n",
      "latest enter time: 02/11/19\n",
      " \n",
      "calibration-images\n",
      "Problem loading interaction data in /home/generalbody/Desktop/merritt/mtf/measure-the-future/mtf_data/3rd Floor/calibration-images: \n",
      "no scout_interactions.\n",
      " \n",
      "20181018_mtf_3f\n",
      "earliest enter time: 09/28/18\n",
      "latest enter time: 10/18/18\n",
      " \n"
     ]
    }
   ],
   "source": [
    "for name in os.listdir(MTF_PATH):\n",
    "    print(\"current folder: \" + name)\n",
    "    print(\" \")\n",
    "    scout_folder_path = MTF_PATH + os.sep + name\n",
    "    for subname in os.listdir(scout_folder_path):\n",
    "        if not os.path.isdir(scout_folder_path + os.sep + subname): continue\n",
    "        print(subname)\n",
    "        (interactions, img) = load_mtf_data.from_set(scout_folder_path, subname)\n",
    "        if interactions == None: print(\"no scout_interactions.\")\n",
    "        else: \n",
    "            entertimes = [i['EnteredAt'] for i in interactions]\n",
    "            print(\"earliest enter time: \" + min(entertimes).strftime(\"%x\"))\n",
    "            print(\"latest enter time: \" + max(entertimes).strftime(\"%x\"))\n",
    "        print(\" \")"
   ]
  }
 ],
 "metadata": {
  "kernelspec": {
   "display_name": "Python 3",
   "language": "python",
   "name": "python3"
  },
  "language_info": {
   "codemirror_mode": {
    "name": "ipython",
    "version": 3
   },
   "file_extension": ".py",
   "mimetype": "text/x-python",
   "name": "python",
   "nbconvert_exporter": "python",
   "pygments_lexer": "ipython3",
   "version": "3.7.1"
  }
 },
 "nbformat": 4,
 "nbformat_minor": 2
}
