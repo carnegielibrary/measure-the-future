{
 "cells": [
  {
   "cell_type": "code",
   "execution_count": null,
   "metadata": {
    "collapsed": true,
    "deletable": true,
    "editable": true
   },
   "outputs": [],
   "source": [
    "#constants that get changed when notebook is autorun\n",
    "SCOUT_FOLDER_PATH = r'C:\\Users\\kowaleskim\\Workspace\\measure_the_future\\mtf_data\\DB2 - Childrens'"
   ]
  },
  {
   "cell_type": "code",
   "execution_count": null,
   "metadata": {
    "collapsed": true,
    "deletable": true,
    "editable": true
   },
   "outputs": [],
   "source": [
    "import matplotlib.pyplot as plt\n",
    "import matplotlib.colors as mpcolors\n",
    "import numpy as np\n",
    "\n",
    "import load_mtf_data\n",
    "import os"
   ]
  },
  {
   "cell_type": "markdown",
   "metadata": {
    "deletable": true,
    "editable": true
   },
   "source": [
    "# Measure the Future: Heatmap Visualization\n",
    "This notebook creates a heatmap of interaction data from one Measure the Future Scout."
   ]
  },
  {
   "cell_type": "code",
   "execution_count": null,
   "metadata": {
    "collapsed": true,
    "deletable": true,
    "editable": true
   },
   "outputs": [],
   "source": [
    "#set matplotlib to display plots in notbook output rather than new window\n",
    "%matplotlib inline"
   ]
  },
  {
   "cell_type": "code",
   "execution_count": null,
   "metadata": {
    "collapsed": false,
    "deletable": true,
    "editable": true
   },
   "outputs": [],
   "source": [
    "#use load_mtf_data python script to get data from the most recent date range subfolder\n",
    "(interactions, im, subfolder_name) = load_mtf_data.from_most_recent_subfolder(SCOUT_FOLDER_PATH)"
   ]
  },
  {
   "cell_type": "code",
   "execution_count": null,
   "metadata": {
    "collapsed": false,
    "deletable": true,
    "editable": true
   },
   "outputs": [],
   "source": [
    "print(im.format, im.size, im.mode)\n",
    "plt.imshow(im, cmap=\"gray\")"
   ]
  },
  {
   "cell_type": "code",
   "execution_count": null,
   "metadata": {
    "collapsed": false,
    "deletable": true,
    "editable": true
   },
   "outputs": [],
   "source": [
    "interactions[0]"
   ]
  },
  {
   "cell_type": "code",
   "execution_count": null,
   "metadata": {
    "collapsed": false,
    "deletable": true,
    "editable": true
   },
   "outputs": [],
   "source": [
    "for i in interactions: \n",
    "    i['Waypoints-MPL-Format'] = list(zip(*i['Waypoints']))\n",
    "    \n",
    "#zip(*[(1, 4), (2, 5), (3, 6)]) -> ([1, 2, 3], [4, 5, 6])\n",
    "interactions[0]"
   ]
  },
  {
   "cell_type": "code",
   "execution_count": null,
   "metadata": {
    "collapsed": true,
    "deletable": true,
    "editable": true
   },
   "outputs": [],
   "source": [
    "def make_colormap_alpha(points):\n",
    "    \"\"\"Return a LinearSegmentedColormap\n",
    "    points: a list of (location, r, g, b, a) tuples\n",
    "    \"\"\"\n",
    "    cdict = {'red': [], 'green': [], 'blue': [], 'alpha': []}\n",
    "    for (location, r, g, b, a) in points:\n",
    "        cdict['red'].append([location, r, r])\n",
    "        cdict['green'].append([location, g, g])\n",
    "        cdict['blue'].append([location, b, b])\n",
    "        cdict['alpha'].append([location, a, a])\n",
    "    return mpcolors.LinearSegmentedColormap('CustomMap', cdict)\n",
    "\n",
    "cmap = make_colormap_alpha(\n",
    "    [(0.0, .1, .3, .9, 0.0),\n",
    "     (0.05, .1, .3, .9, 0.7),\n",
    "     (0.1, .9, 0.2, .7, 1.0),\n",
    "     (0.4, 0.2, .9, .7, 1.0),\n",
    "     #(0.7, .6, .8, .1, 1.0),\n",
    "     (1.0, .9, .7, 0.2, 1.0)])"
   ]
  },
  {
   "cell_type": "code",
   "execution_count": null,
   "metadata": {
    "collapsed": true,
    "deletable": true,
    "editable": true
   },
   "outputs": [],
   "source": [
    "title = \"\\n\".join([\n",
    "    \"Number of Interactions by Location in Image\",\n",
    "    \"scout: \" + os.path.basename(SCOUT_FOLDER_PATH),\n",
    "    \"dates range subfolder: \" + subfolder_name\n",
    "])"
   ]
  },
  {
   "cell_type": "code",
   "execution_count": null,
   "metadata": {
    "collapsed": false,
    "deletable": true,
    "editable": true
   },
   "outputs": [],
   "source": [
    "#get axes object from pyplot\n",
    "ax = plt.axes()\n",
    "\n",
    "flatten = lambda l: [item for sublist in l for item in sublist]\n",
    "\n",
    "(counts, xedges, yedges, image) = ax.hist2d(\n",
    "    #x, y coords\n",
    "    flatten([i['Waypoints-MPL-Format'][0] for i in interactions]), \n",
    "    flatten([i['Waypoints-MPL-Format'][1] for i in interactions]),\n",
    "    #set range to match size of image\n",
    "    range=[[0, im.width], [0, im.height]],\n",
    "    #set number of bins for each axis\n",
    "    bins=[100, 50],\n",
    "    cmap=cmap\n",
    ")\n",
    "\n",
    "plt.colorbar(\n",
    "    image, #colorbar for image returned by histogram\n",
    "    ax=ax, #put it on the axes object ax\n",
    "    orientation=\"horizontal\", \n",
    "    pad=0, \n",
    "    shrink=.98 #for some reason it comes out slightly larger than the image, so fix that\n",
    ")\n",
    "\n",
    "#make sure plot limits are correct\n",
    "ax.set_xlim(0, 1280)\n",
    "ax.set_ylim(720, 0)\n",
    "\n",
    "#display grayscale image overlaid on histogram\n",
    "ax.imshow(im, alpha=.6, cmap=\"gray\")\n",
    "\n",
    "#we don't really need axes labels for this\n",
    "ax.xaxis.set_visible(False)\n",
    "ax.yaxis.set_visible(False)\n",
    "\n",
    "ax.set_title(title)\n",
    "\n",
    "plt.savefig(SCOUT_FOLDER_PATH + os.sep + \"heatmap_\" + subfolder_name + \".jpg\",\n",
    "           bbox_inches='tight', dpi=300)"
   ]
  }
 ],
 "metadata": {
  "kernelspec": {
   "display_name": "Python 3",
   "language": "python",
   "name": "python3"
  },
  "language_info": {
   "codemirror_mode": {
    "name": "ipython",
    "version": 3
   },
   "file_extension": ".py",
   "mimetype": "text/x-python",
   "name": "python",
   "nbconvert_exporter": "python",
   "pygments_lexer": "ipython3",
   "version": "3.6.2"
  }
 },
 "nbformat": 4,
 "nbformat_minor": 2
}
