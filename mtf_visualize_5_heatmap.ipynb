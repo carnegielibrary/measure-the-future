{
 "cells": [
  {
   "cell_type": "code",
   "execution_count": null,
   "metadata": {
    "collapsed": true,
    "deletable": true,
    "editable": true
   },
   "outputs": [],
   "source": [
    "#constants that get changed when notebook is autorun\n",
    "SCOUT_FOLDER_PATH = r'C:\\Users\\kowaleskim\\Workspace\\measure_the_future\\mtf_data\\DB1 - Entry'"
   ]
  },
  {
   "cell_type": "code",
   "execution_count": null,
   "metadata": {
    "collapsed": false,
    "deletable": true,
    "editable": true
   },
   "outputs": [],
   "source": [
    "import matplotlib.pyplot as plt\n",
    "import matplotlib.colors as mpcolors\n",
    "import numpy as np\n",
    "\n",
    "import load_mtf_data\n",
    "import os\n",
    "\n",
    "from constants import DATE_RANGE"
   ]
  },
  {
   "cell_type": "markdown",
   "metadata": {
    "deletable": true,
    "editable": true
   },
   "source": [
    "# Measure the Future: Heatmap Visualization\n",
    "This notebook creates a heatmap of interaction data from one Measure the Future Scout."
   ]
  },
  {
   "cell_type": "code",
   "execution_count": null,
   "metadata": {
    "collapsed": true,
    "deletable": true,
    "editable": true
   },
   "outputs": [],
   "source": [
    "#set matplotlib to display plots in notbook output rather than new window\n",
    "%matplotlib inline"
   ]
  },
  {
   "cell_type": "code",
   "execution_count": null,
   "metadata": {
    "collapsed": false,
    "deletable": true,
    "editable": true
   },
   "outputs": [],
   "source": [
    "#use load_mtf_data python script to get data from the most recent date range subfolder\n",
    "#(interactions, im, subfolder_name) = load_mtf_data.from_most_recent_subfolder(SCOUT_FOLDER_PATH)\n",
    "#(interactions, im) = load_mtf_data.from_set(SCOUT_FOLDER_PATH, \"db1_10252017\")\n",
    "(interactions, im) = load_mtf_data.from_date_range(SCOUT_FOLDER_PATH, DATE_RANGE)"
   ]
  },
  {
   "cell_type": "code",
   "execution_count": null,
   "metadata": {
    "collapsed": false,
    "deletable": true,
    "editable": true
   },
   "outputs": [],
   "source": [
    "print(im.format, im.size, im.mode)\n",
    "plt.imshow(im, cmap=\"gray\")"
   ]
  },
  {
   "cell_type": "code",
   "execution_count": null,
   "metadata": {
    "collapsed": false,
    "deletable": true,
    "editable": true
   },
   "outputs": [],
   "source": [
    "interactions[0]"
   ]
  },
  {
   "cell_type": "markdown",
   "metadata": {
    "deletable": true,
    "editable": true
   },
   "source": [
    "We will be plotting interactions by the x,y coordinates of their waypoints.  Matplotlib likes to have coordinates in separate lists for x and y, instead of a single list of x, y tuples.  Thus we will add a new key to each interaction, called \"Waypoints-MPL-Format\" which stores waypoint coordinates in such a manner."
   ]
  },
  {
   "cell_type": "code",
   "execution_count": null,
   "metadata": {
    "collapsed": false,
    "deletable": true,
    "editable": true
   },
   "outputs": [],
   "source": [
    "for i in interactions: \n",
    "    i['Waypoints-MPL-Format'] = list(zip(*i['Waypoints']))\n",
    "    #zip(*[(1, 4), (2, 5), (3, 6)]) -> ([1, 2, 3], [4, 5, 6])\n",
    "    \n",
    "\n",
    "interactions[0]"
   ]
  },
  {
   "cell_type": "markdown",
   "metadata": {
    "deletable": true,
    "editable": true
   },
   "source": [
    "Make a custom colormap for the heatmap we're about to make.  For an indication of why this is needed, try changing cmap=cmap to cmap='rainbow' in the call to hist2d in the last cell.  There are two problems with a normal colormap like 'rainbow':\n",
    "* the background image gets kind of muddy and hard to make out.\n",
    "* most of the squares are very close to the low end of the colorbar, with only a handful shooting up into the high range.  There can be a big difference in practice between 0 and 500 interactions, but if there's one cell with 3000 interactions 0 and 500 will end up being visually hard to distinguish.\n",
    "\n",
    "To solve the first issue, our custom colormap will be transparent at very low values, so the image is more visible especially in places with low traffic.  To solve the second, our custom colormap will change colors much more rapidly at lower values, so differences in low values aren't drowned out by the prescence of very high values."
   ]
  },
  {
   "cell_type": "code",
   "execution_count": null,
   "metadata": {
    "collapsed": true,
    "deletable": true,
    "editable": true
   },
   "outputs": [],
   "source": [
    "def make_colormap_alpha(points):\n",
    "    #points is a list of (location, r, g, b, a) tuples\n",
    "    #where each element of the tuple is a float from 0 to 1\n",
    "\n",
    "    cdict = {'red': [], 'green': [], 'blue': [], 'alpha': []}\n",
    "    for (location, r, g, b, a) in points:\n",
    "        cdict['red'].append([location, r, r])\n",
    "        cdict['green'].append([location, g, g])\n",
    "        cdict['blue'].append([location, b, b])\n",
    "        cdict['alpha'].append([location, a, a])\n",
    "    return mpcolors.LinearSegmentedColormap('CustomMap', cdict)\n",
    "\n",
    "cmap = make_colormap_alpha(\n",
    "    [(0.0, .1, .3, .9, 0.0),\n",
    "     (0.05, .1, .3, .9, 0.7),\n",
    "     (0.1, .9, 0.2, .7, 1.0),\n",
    "     (0.4, 0.2, .9, .7, 1.0),\n",
    "     (1.0, .9, .7, 0.2, 1.0)])"
   ]
  },
  {
   "cell_type": "code",
   "execution_count": null,
   "metadata": {
    "collapsed": false,
    "deletable": true,
    "editable": true
   },
   "outputs": [],
   "source": [
    "title = \"\\n\".join([\n",
    "    \"Number of Interactions by Location in Image\",\n",
    "    \"scout: \" + os.path.basename(SCOUT_FOLDER_PATH),\n",
    "    \"date range: \" + DATE_RANGE[0].strftime('%x') + \" to \" + DATE_RANGE[1].strftime(\"%x\")\n",
    "])\n",
    "print(title)"
   ]
  },
  {
   "cell_type": "code",
   "execution_count": null,
   "metadata": {
    "collapsed": false,
    "deletable": true,
    "editable": true
   },
   "outputs": [],
   "source": [
    "#get axes object from pyplot\n",
    "ax = plt.axes()\n",
    "\n",
    "flatten = lambda l: [item for sublist in l for item in sublist]\n",
    "\n",
    "(counts, xedges, yedges, image) = ax.hist2d(\n",
    "    #x, y coords\n",
    "    flatten([i['Waypoints-MPL-Format'][0] for i in interactions]), \n",
    "    flatten([i['Waypoints-MPL-Format'][1] for i in interactions]),\n",
    "    #set range to match size of image\n",
    "    range=[[0, im.width], [0, im.height]],\n",
    "    #set number of bins for each axis\n",
    "    bins=[100, 50],\n",
    "    cmap=cmap\n",
    "    #cmap = 'rainbow'\n",
    ")\n",
    "\n",
    "plt.colorbar(\n",
    "    image, #colorbar for image returned by histogram\n",
    "    ax=ax, #put it on the axes object ax\n",
    "    orientation=\"horizontal\", \n",
    "    pad=0, \n",
    "    shrink=.98 #for some reason it comes out slightly larger than the image, so fix that\n",
    ")\n",
    "\n",
    "#make sure plot limits are correct\n",
    "ax.set_xlim(0, 1280)\n",
    "ax.set_ylim(720, 0)\n",
    "\n",
    "#display grayscale image overlaid on histogram\n",
    "ax.imshow(im, alpha=.6, cmap=\"gray\")\n",
    "\n",
    "#we don't really need axes labels for this\n",
    "ax.xaxis.set_visible(False)\n",
    "ax.yaxis.set_visible(False)\n",
    "\n",
    "ax.set_title(title)\n",
    "\n",
    "plt.savefig(SCOUT_FOLDER_PATH + os.sep + \"heatmap_\" + str(DATE_RANGE[0]) + \"_\" + str(DATE_RANGE[1]) + \".jpg\",\n",
    "           bbox_inches='tight', dpi=300)"
   ]
  }
 ],
 "metadata": {
  "kernelspec": {
   "display_name": "Python 3",
   "language": "python",
   "name": "python3"
  },
  "language_info": {
   "codemirror_mode": {
    "name": "ipython",
    "version": 3
   },
   "file_extension": ".py",
   "mimetype": "text/x-python",
   "name": "python",
   "nbconvert_exporter": "python",
   "pygments_lexer": "ipython3",
   "version": "3.6.2"
  }
 },
 "nbformat": 4,
 "nbformat_minor": 2
}
