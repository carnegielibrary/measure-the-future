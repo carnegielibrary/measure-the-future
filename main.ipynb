{
 "cells": [
  {
   "cell_type": "code",
   "execution_count": 1,
   "metadata": {
    "collapsed": true,
    "deletable": true,
    "editable": true
   },
   "outputs": [],
   "source": [
    "import os\n",
    "import nbformat #for running jupyter notebooks\n",
    "import nbparameterise as nbparam #for changing input parameters in jupyter notebooks"
   ]
  },
  {
   "cell_type": "markdown",
   "metadata": {
    "deletable": true,
    "editable": true
   },
   "source": [
    "# Measure the Future - Visualizations\n",
    "#### Overview\n",
    "Measure the Future involves placement of fixed cameras, called scouts, that track movements through public places.  We want to visualize the data collected by scouts in order to draw meaningful conclusions from it about where people tend to go and when they go there.\n",
    "\n",
    "#### Format MtF data should be in before using this notebook\n",
    "Each scout should have a folder containing data recorded by that scout.  The name of the folder should be the name of that scout, for example \"Main 1 - LobbyHall\".\n",
    "\n",
    "A scout's folder should have several subfolders containing data from different ranges of dates.  The names of these folders should be of the form:\n",
    "* [shotened scout name]\\_[end date of range in the form MMDDYYYY]\n",
    "\n",
    "Each of these subfolders should contain a jpeg calibration image, and four json files: scout_interactions, scout_summaries, scouts, and scout_healths. \n",
    "\n",
    "#### Calibration image\n",
    "Filename should be of the form:\n",
    "* scout-[a long string on letters and numbers].jpg\n",
    "\n",
    "This shows the view the scout sees during the date range of the subfolder it's in.  The reason there is a separete calibration image for each subfolder is that getting the data out of the scout and deleting it in preparation from more data collection involves touching the scout.  Doing so may move the scout slightly, so it must be recalibrated after.  Thus, the calibration images will not always be identical for different date ranges.\n",
    "\n",
    "#### scout_interactions.json\n",
    "Each \"interaction\" represents one person's path across the scout's frame of view.  An interaction is represented by a list of waypoints, represented by 2d coordinates on the calibration image.  \n",
    "\n",
    "In addition, interactions are recorded with a duration (in seconds), an enter time (in UTC), a series of waypoint times (in seconds after the enter time), and a series of waypoint widths (representing the recorded width and height of the person at each waypoint).\n",
    "\n",
    "#### Visualiztion Notebooks\n",
    "There should be a set of notebooks (stored in the same folder as this one), each of which does one particular visualization on one particular scout.  You can choose which of these notebooks to run, and each one you choose will be run on every scout.\n",
    "\n",
    "Some notebooks only do visualizations on the most recent date range subfolder for a scout.  Others combine the data across all date ranges.\n",
    "\n",
    "#### Constants\n",
    "Make sure these are correct before you run this notebook!"
   ]
  },
  {
   "cell_type": "code",
   "execution_count": 2,
   "metadata": {
    "collapsed": false,
    "deletable": true,
    "editable": true
   },
   "outputs": [
    {
     "data": {
      "text/plain": [
       "['DB1 - Entry',\n",
       " 'DB2 - Childrens',\n",
       " 'Main 1 - LobbyHall',\n",
       " 'Main 2 - LobbyCS',\n",
       " 'Main 3 - MFA']"
      ]
     },
     "execution_count": 2,
     "metadata": {},
     "output_type": "execute_result"
    }
   ],
   "source": [
    "#Set the folder containing all the MtF data you want to visualize:\n",
    "#(It is assumed that all subfolders of this folder are data for one scout)\n",
    "MTF_PATH = None\n",
    "os.listdir(MTF_PATH) #take a look at which scouts we'll be visualizing"
   ]
  },
  {
   "cell_type": "code",
   "execution_count": 3,
   "metadata": {
    "collapsed": false,
    "deletable": true,
    "editable": true
   },
   "outputs": [],
   "source": [
    "scout_folder_paths = []\n",
    "for name in  os.listdir(MTF_PATH):\n",
    "    if os.path.isdir(MTF_PATH + os.sep + name):\n",
    "        scout_folder_paths.append(MTF_PATH + os.sep + name)"
   ]
  },
  {
   "cell_type": "code",
   "execution_count": 4,
   "metadata": {
    "collapsed": false,
    "deletable": true,
    "editable": true
   },
   "outputs": [
    {
     "data": {
      "text/plain": [
       "['.ipynb_checkpoints',\n",
       " 'load_mtf_data.py',\n",
       " 'main.ipynb',\n",
       " 'misc not used code',\n",
       " 'mtf_data',\n",
       " 'mtf_data_old (from eleanor thumb drive)',\n",
       " 'mtf_data_old2 (before switched to onedrive format_',\n",
       " 'mtf_visualize_1.ipynb',\n",
       " 'mtf_visualize_2_flexible.ipynb',\n",
       " 'mtf_visualize_3_more_experiments.ipynb',\n",
       " 'mtf_visualize_4_uses_path.ipynb',\n",
       " 'mtf_visualize_4_uses_path_executed',\n",
       " 'mtf_visualize_5_heatmap.ipynb',\n",
       " 'mtf_visualize_5_paths.ipynb',\n",
       " 'mtf_visualize_5_paths_executed',\n",
       " 'mtf_visualize_5_remove_outliers.ipynb',\n",
       " 'mtf_visualize_5_time.ipynb',\n",
       " 'mtf_visualize_5_time_executed',\n",
       " 'mtf_visualize_6_time.ipynb',\n",
       " 'mtf_visualize_7_time.ipynb',\n",
       " 'mtf_visualize_7_time_executed',\n",
       " '__pycache__']"
      ]
     },
     "execution_count": 4,
     "metadata": {},
     "output_type": "execute_result"
    }
   ],
   "source": [
    "#take a look at the aviailable visualization notebooks\n",
    "this_directory = os.listdir()\n",
    "this_directory"
   ]
  },
  {
   "cell_type": "code",
   "execution_count": 5,
   "metadata": {
    "collapsed": false,
    "deletable": true,
    "editable": true
   },
   "outputs": [],
   "source": [
    "#set the names of mtf_visualize notebooks to use\n",
    "MTF_VISUALIZE_NAMES = ['mtf_visualize_7_time', 'mtf_visualize_5_heatmap', 'mtf_visualize_5_paths']\n",
    "for name in MTF_VISUALIZE_NAMES: assert(name + \".ipynb\" in this_directory)"
   ]
  },
  {
   "cell_type": "markdown",
   "metadata": {
    "deletable": true,
    "editable": true
   },
   "source": [
    "For each selected mtf_visualize notbook, run that notebook on all scouts.\n",
    "\n",
    "Visualizations will be saved as images in the scout's folder. \n",
    "\n",
    "Folders will be created (in the same location as main.ipynb) containing executed versions of each notebook.  Thier names will be of the form:\n",
    "* [notebook name]\\_executed"
   ]
  },
  {
   "cell_type": "code",
   "execution_count": 6,
   "metadata": {
    "collapsed": false,
    "deletable": true,
    "editable": true
   },
   "outputs": [],
   "source": [
    "for notebook_name in MTF_VISUALIZE_NAMES:\n",
    "    \n",
    "    #make directory for executed verison\n",
    "    mtf_visualize_executed_dir = notebook_name + \"_executed\"\n",
    "    try:\n",
    "        os.mkdir(mtf_visualize_executed_dir)\n",
    "    except FileExistsError:\n",
    "        pass #it already exists, do nothing\n",
    "    \n",
    "    for scout_folder_path in scout_folder_paths:\n",
    "        \n",
    "        #use nbformat to read mtf_visualize file into a notebook object\n",
    "        with open(notebook_name + \".ipynb\") as f:\n",
    "            nb = nbformat.read(f, as_version=4)\n",
    "    \n",
    "        #replace SCOUT_FOLDER_PATH parameter in first cell of notebook we want to run\n",
    "        orig_params = nbparam.extract_parameters(nb)\n",
    "        new_params = nbparam.parameter_values(orig_params, SCOUT_FOLDER_PATH = scout_folder_path)\n",
    "        new_nb = nbparam.replace_definitions(nb, new_params)\n",
    "        #new notebook gets executed automatically\n",
    "    \n",
    "        #save the new notebook, executed with replaced params.\n",
    "        executed_notebook_name = notebook_name + \"_\" + os.path.basename(scout_folder_path) + \".ipynb\"\n",
    "        with open(mtf_visualize_executed_dir + os.sep + executed_notebook_name, 'w') as f:\n",
    "            nbformat.write(new_nb, f)\n",
    " "
   ]
  }
 ],
 "metadata": {
  "kernelspec": {
   "display_name": "Python 3",
   "language": "python",
   "name": "python3"
  },
  "language_info": {
   "codemirror_mode": {
    "name": "ipython",
    "version": 3
   },
   "file_extension": ".py",
   "mimetype": "text/x-python",
   "name": "python",
   "nbconvert_exporter": "python",
   "pygments_lexer": "ipython3",
   "version": "3.6.2"
  }
 },
 "nbformat": 4,
 "nbformat_minor": 2
}
