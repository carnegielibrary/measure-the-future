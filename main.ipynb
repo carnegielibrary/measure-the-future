{
 "cells": [
  {
   "cell_type": "code",
   "execution_count": null,
   "metadata": {
    "collapsed": false,
    "deletable": true,
    "editable": true
   },
   "outputs": [],
   "source": [
    "import os\n",
    "import nbformat #for running jupyter notebooks\n",
    "import nbparameterise as nbparam #for changing input parameters in jupyter notebooks\n",
    "from datetime import date\n",
    "from constants import MTF_PATH"
   ]
  },
  {
   "cell_type": "code",
   "execution_count": null,
   "metadata": {
    "collapsed": true,
    "deletable": true,
    "editable": true
   },
   "outputs": [],
   "source": [
    "#set the names of mtf_visualize notebooks to use\n",
    "MTF_VISUALIZE_NAMES = ['mtf_visualize_time']\n",
    "\n",
    "#set the names of the scout folders you want to visualize\n",
    "SCOUT_FOLDER_NAMES = ['Main 2 - LobbyCS']"
   ]
  },
  {
   "cell_type": "code",
   "execution_count": null,
   "metadata": {
    "collapsed": false,
    "deletable": true,
    "editable": true
   },
   "outputs": [],
   "source": [
    "os.listdir(MTF_PATH) \n",
    "#take a look at which scouts we'll be visualizing\n",
    "#ideally there are no folders in this directory that aren't scout folders"
   ]
  },
  {
   "cell_type": "code",
   "execution_count": null,
   "metadata": {
    "collapsed": false,
    "deletable": true,
    "editable": true
   },
   "outputs": [],
   "source": [
    "scout_folder_paths = []\n",
    "for name in SCOUT_FOLDER_NAMES:\n",
    "    assert(name in os.listdir(MTF_PATH))\n",
    "    scout_folder_paths.append(MTF_PATH + os.sep + name)"
   ]
  },
  {
   "cell_type": "code",
   "execution_count": null,
   "metadata": {
    "collapsed": false,
    "deletable": true,
    "editable": true
   },
   "outputs": [],
   "source": [
    "#take a look at the aviailable visualization notebooks\n",
    "this_directory = os.listdir()\n",
    "this_directory"
   ]
  },
  {
   "cell_type": "code",
   "execution_count": null,
   "metadata": {
    "collapsed": false,
    "deletable": true,
    "editable": true
   },
   "outputs": [],
   "source": [
    "#all of the visualization notebooks specified in constants.py should exist in the same directory as this one\n",
    "for name in MTF_VISUALIZE_NAMES: assert(name + \".ipynb\" in this_directory)"
   ]
  },
  {
   "cell_type": "markdown",
   "metadata": {
    "deletable": true,
    "editable": true
   },
   "source": [
    "For each selected mtf_visualize notbook, run that notebook on all scouts.\n",
    "\n",
    "Visualizations will be saved as images in the scout's folder. \n",
    "\n",
    "Folders will be created (in the same location as main.ipynb) containing executed versions of each notebook.  Thier names will be of the form:\n",
    "* [notebook name]\\_executed"
   ]
  },
  {
   "cell_type": "code",
   "execution_count": null,
   "metadata": {
    "collapsed": false,
    "deletable": true,
    "editable": true
   },
   "outputs": [],
   "source": [
    "for notebook_name in MTF_VISUALIZE_NAMES:\n",
    "    \n",
    "    #make directory for executed version\n",
    "    mtf_visualize_executed_dir = notebook_name + \"_executed\"\n",
    "    try:\n",
    "        os.mkdir(mtf_visualize_executed_dir)\n",
    "    except FileExistsError:\n",
    "        pass #dir already exists, do nothing\n",
    "    \n",
    "    for scout_folder_path in scout_folder_paths:\n",
    "        \n",
    "        #use nbformat to read mtf_visualize file into a notebook object\n",
    "        with open(notebook_name + \".ipynb\") as f:\n",
    "            nb = nbformat.read(f, as_version=4)\n",
    "    \n",
    "        #replace SCOUT_FOLDER_PATH parameter in first cell of notebook we want to run\n",
    "        orig_params = nbparam.extract_parameters(nb)\n",
    "        new_params = nbparam.parameter_values(orig_params, SCOUT_FOLDER_PATH = scout_folder_path)\n",
    "        new_nb = nbparam.replace_definitions(nb, new_params)\n",
    "        #new notebook gets executed automatically\n",
    "    \n",
    "        #save the new notebook, executed with replaced params.\n",
    "        executed_notebook_name = notebook_name + \"_\" + os.path.basename(scout_folder_path) + \".ipynb\"\n",
    "        with open(mtf_visualize_executed_dir + os.sep + executed_notebook_name, 'w') as f:\n",
    "            nbformat.write(new_nb, f)\n",
    " "
   ]
  }
 ],
 "metadata": {
  "kernelspec": {
   "display_name": "Python 3",
   "language": "python",
   "name": "python3"
  },
  "language_info": {
   "codemirror_mode": {
    "name": "ipython",
    "version": 3
   },
   "file_extension": ".py",
   "mimetype": "text/x-python",
   "name": "python",
   "nbconvert_exporter": "python",
   "pygments_lexer": "ipython3",
   "version": "3.6.2"
  }
 },
 "nbformat": 4,
 "nbformat_minor": 2
}
